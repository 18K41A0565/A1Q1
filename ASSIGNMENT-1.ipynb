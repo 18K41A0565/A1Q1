{
  "nbformat": 4,
  "nbformat_minor": 0,
  "metadata": {
    "colab": {
      "name": "Q2.ipynb",
      "provenance": [],
      "collapsed_sections": [],
      "authorship_tag": "ABX9TyPLhOPh/h86+T25driu4lkl",
      "include_colab_link": true
    },
    "kernelspec": {
      "name": "python3",
      "display_name": "Python 3"
    }
  },
  "cells": [
    {
      "cell_type": "markdown",
      "metadata": {
        "id": "view-in-github",
        "colab_type": "text"
      },
      "source": [
        "<a href=\"https://colab.research.google.com/github/18K41A0565/ASSIGNMENT-I/blob/master/ASSIGNMENT-1.ipynb\" target=\"_parent\"><img src=\"https://colab.research.google.com/assets/colab-badge.svg\" alt=\"Open In Colab\"/></a>"
      ]
    },
    {
      "cell_type": "markdown",
      "metadata": {
        "id": "-WOFiUji-GP0",
        "colab_type": "text"
      },
      "source": [
        "2.A Quick Fox Transport Co. wants to develop an application for calculating amount based on distance and weight of goods. The charges (Amount) to be calculated as per rates given below.\n",
        "\n",
        "Input:  Distance to be travel: 520     \n",
        "Weight of the goods: 50 \n",
        "\n",
        "Output: Amount to be charged: 3120 /-\n",
        "\n"
      ]
    },
    {
      "cell_type": "code",
      "metadata": {
        "id": "9jG9uxpV-VPe",
        "colab_type": "code",
        "colab": {
          "base_uri": "https://localhost:8080/",
          "height": 67
        },
        "outputId": "db034e4b-fe39-4b1a-9d97-42c7b5762665"
      },
      "source": [
        "d=int(input('Enter distance to be travelled:\\t'))\n",
        "x=int(input('Enter weight of goods:\\t'))\n",
        "if d>=500:\n",
        "    if x>=100:\n",
        "        a=5*d\n",
        "    elif x<100:\n",
        "        if x>=10:\n",
        "            a=6*d\n",
        "        elif x<10:\n",
        "            a=7*d\n",
        "elif d<500:\n",
        "    if x>=100:\n",
        "        a=8*d\n",
        "    else:\n",
        "        a=5*d\n",
        "       \n",
        "print('Amount to be charged:',+a)\n"
      ],
      "execution_count": 1,
      "outputs": [
        {
          "output_type": "stream",
          "text": [
            "Enter distance to be travelled:\t520\n",
            "Enter weight of goods:\t50\n",
            "Amount to be charged: 3120\n"
          ],
          "name": "stdout"
        }
      ]
    }
  ]
}
{
  "nbformat": 4,
  "nbformat_minor": 0,
  "metadata": {
    "colab": {
      "name": "Q1.ipynb",
      "provenance": [],
      "authorship_tag": "ABX9TyOwGvMXbaDzjHmqxq94qjCn",
      "include_colab_link": true
    },
    "kernelspec": {
      "name": "python3",
      "display_name": "Python 3"
    }
  },
  "cells": [
    {
      "cell_type": "markdown",
      "metadata": {
        "id": "view-in-github",
        "colab_type": "text"
      },
      "source": [
        "<a href=\"https://colab.research.google.com/github/18K41A0565/ASSIGNMENT-I/blob/master/ASSIGNMENT-1.ipynb\" target=\"_parent\"><img src=\"https://colab.research.google.com/assets/colab-badge.svg\" alt=\"Open In Colab\"/></a>"
      ]
    },
    {
      "cell_type": "markdown",
      "metadata": {
        "id": "Ae9yh7ga0auy",
        "colab_type": "text"
      },
      "source": [
        "1.Develop a code for below scenario!"
      ]
    },
    {
      "cell_type": "code",
      "metadata": {
        "id": "d6A2p3VJ0cqm",
        "colab_type": "code",
        "colab": {
          "base_uri": "https://localhost:8080/",
          "height": 50
        },
        "outputId": "fd39276b-c253-4bd1-d807-a1750ee2da9b"
      },
      "source": [
        "month={0:'monkey',1:'rooster',2:'dog',3:'pig',4:'rat',5:'ox',6:'tiger',7:'rabbit',8:'dragon',9:'snake',10:'horse',11:'sheep'}\n",
        "m=int(input('Enter year of birth:'))\n",
        "k=m%12\n",
        "if k in month:\n",
        "  print(month[k])"
      ],
      "execution_count": null,
      "outputs": [
        {
          "output_type": "stream",
          "text": [
            "Enter year of birth:2001\n",
            "snake\n"
          ],
          "name": "stdout"
        }
      ]
    },
    {
      "cell_type": "markdown",
      "metadata": {
        "id": "RKZDwm_zDOrm",
        "colab_type": "text"
      },
      "source": [
        "2.A Quick Fox Transport Co. wants to develop an application for calculating amount based on distance and weight of goods. The charges (Amount) to be calculated as per rates given below. \n",
        "\n",
        "Input:  Distance to be travel: 520 \n",
        "    \n",
        "Weight of the goods: 50 \n",
        "\n",
        "Output: Amount to be charged: 3120 /-\n"
      ]
    },
    {
      "cell_type": "code",
      "metadata": {
        "id": "rdPkAtwBDQIz",
        "colab_type": "code",
        "colab": {
          "base_uri": "https://localhost:8080/",
          "height": 67
        },
        "outputId": "fdfbfd86-9b71-45af-abd5-b2be5796159d"
      },
      "source": [
        "d=int(input('Enter distance to be travelled:\\t'))\n",
        "x=int(input('Enter weight of goods:\\t'))\n",
        "if d>=500:\n",
        "    if x>=100:\n",
        "        a=5*d\n",
        "    elif x<100:\n",
        "        if x>=10:\n",
        "            a=6*d\n",
        "        elif x<10:\n",
        "            a=7*d\n",
        "elif d<500:\n",
        "    if x>=100:\n",
        "        a=8*d\n",
        "    else:\n",
        "        a=5*d\n",
        "       \n",
        "print('Amount to be charged:',+a)\n"
      ],
      "execution_count": null,
      "outputs": [
        {
          "output_type": "stream",
          "text": [
            "Enter distance to be travelled:\t520\n",
            "Enter weight of goods:\t50\n",
            "Amount to be charged: 3120\n"
          ],
          "name": "stdout"
        }
      ]
    },
    {
      "cell_type": "markdown",
      "metadata": {
        "id": "0T1DEcqJD1Pz",
        "colab_type": "text"
      },
      "source": [
        "    3. The Entertainment Paradise\n",
        "\n",
        " A theater in Delhi wants to develop a computerized Booking System. The theater offers different types of seats. The Ticket rates are- Stalls- Rs. 625/-, Circle- Rs.750/-, Upper Class- Rs.850/- and Box- Rs.1000/-. A discount is given 10% of total amount if tickets are purchased on Cash. In case of credit card holders 5% discount is given.\n",
        "\n",
        "Input: \tType of Seat: Circle\n",
        "\n",
        "Payment mode: cash\n",
        "\n",
        "Output: Cost of ticket: 675"
      ]
    },
    {
      "cell_type": "code",
      "metadata": {
        "id": "3XSofqPDD1wl",
        "colab_type": "code",
        "colab": {
          "base_uri": "https://localhost:8080/",
          "height": 134
        },
        "outputId": "6d1d4ab3-acdd-47e9-826d-fc66641ff834"
      },
      "source": [
        "print('Menu:\\t1:stalls - 625 \\t2:circle - 750 \\t3:class - 850\\t4:box - 1000')\n",
        "s=input('Select Type of seat:\\t')\n",
        "print('paymnet \\n1:cash - 10% discount \\n2:card - 5% discount')\n",
        "p=input('Select Payment Mode:\\t')\n",
        "a={'stalls':625,'circle':750,'class':850,'box':1000}\n",
        "p2={'cash':(1/10),'card':(1/20)}\n",
        "if s in a:\n",
        "      k=a[s]\n",
        "if p in p2:\n",
        "      print('Cost of ticket:',k-k*p2[p])\n",
        "elif p in p2:\n",
        "      print('Cost of ticket:',k-k*p2[p])\n",
        "    \n"
      ],
      "execution_count": null,
      "outputs": [
        {
          "output_type": "stream",
          "text": [
            "Menu:\t1:stalls - 625 \t2:circle - 750 \t3:class - 850\t4:box - 1000\n",
            "Select Type of seat:\tcircle\n",
            "paymnet \n",
            "1:cash - 10% discount \n",
            "2:card - 5% discount\n",
            "Select Payment Mode:\tcash\n",
            "Cost of ticket: 675.0\n"
          ],
          "name": "stdout"
        }
      ]
    },
    {
      "cell_type": "markdown",
      "metadata": {
        "id": "uI9S62M9EwfZ",
        "colab_type": "text"
      },
      "source": [
        "4. Develop a program that calculates the energy needed to heat water from an initial temperature to a final temperature. Your program should prompt the user to enter the amount of water in kilograms and the initial and final temperatures of the water. The formula to compute the energy is \n",
        "Q = M * (finalTemperature – initialTemperature) * 4184.\n",
        "where M is the weight of water in kilograms, temperatures are in degrees Celsius,  and energy Q is measured in joules. "
      ]
    },
    {
      "cell_type": "code",
      "metadata": {
        "id": "vb0I994eD0Kg",
        "colab_type": "code",
        "colab": {
          "base_uri": "https://localhost:8080/",
          "height": 84
        },
        "outputId": "194100d2-b22d-4aea-e968-c0a999336316"
      },
      "source": [
        "M=float(input('Enter amount of water in kilograms:'))\n",
        "it=float(input('Enter initial temperatur:'))\n",
        "ft=float(input('Enter final temperatur:'))\n",
        "Q=M*(ft-it)*4184\n",
        "print('Energy needed to heat water:',Q)"
      ],
      "execution_count": 2,
      "outputs": [
        {
          "output_type": "stream",
          "text": [
            "Enter amount of water in kilograms:55.5\n",
            "Enter initial temperatur:5.5\n",
            "Enter final temperatur:10.5\n",
            "Energy needed to heat water: 1161060.0\n"
          ],
          "name": "stdout"
        }
      ]
    },
    {
      "cell_type": "markdown",
      "metadata": {
        "id": "66wJ2_9lDzlc",
        "colab_type": "text"
      },
      "source": [
        "    5. Develop a program that prompts user to enter month and  print \n",
        "        a. “Winter ” -   December ,January and February\n",
        "        b. “Spring”  -   March ,April and May\n",
        "        c. “Summer”  --- June ,July, August\n",
        "        d. “Autumn ”  -- September ,October, November\n"
      ]
    },
    {
      "cell_type": "code",
      "metadata": {
        "id": "VRnLSHmIhnBs",
        "colab_type": "code",
        "colab": {
          "base_uri": "https://localhost:8080/",
          "height": 50
        },
        "outputId": "5bc622c1-e020-48b0-89bb-d90cfdb9fdb5"
      },
      "source": [
        "m=input('Enter month name:')\n",
        "month={'January':'Winter','December':'Winter','February':'Winter','March':'Spring','April':'Spring','May':'Spring','June':'Summer','July':'Summer','August':'Summer','September':'Autumn','October':'Autumn','November':'Autumn',}\n",
        "if m in month:\n",
        "  print(month[m])\n",
        "\n"
      ],
      "execution_count": 3,
      "outputs": [
        {
          "output_type": "stream",
          "text": [
            "Enter month name:March\n",
            "Spring\n"
          ],
          "name": "stdout"
        }
      ]
    },
    {
      "cell_type": "markdown",
      "metadata": {
        "id": "6SLfOLqliDbO",
        "colab_type": "text"
      },
      "source": [
        "6.Body Mass Index"
      ]
    },
    {
      "cell_type": "code",
      "metadata": {
        "id": "2u8PerBCiEPC",
        "colab_type": "code",
        "colab": {
          "base_uri": "https://localhost:8080/",
          "height": 84
        },
        "outputId": "5e72b4ee-6f9e-42fe-9ed1-e64b272a4572"
      },
      "source": [
        "W=float(input('Enter weight in pounds:'))\n",
        "H=float(input('Enter height in inches:'))\n",
        "BMI=(W*0.453592237)/(H*0.0254)**2\n",
        "print('BMI:',BMI)\n",
        "if BMI<18.5:\n",
        "  print('Underweight')\n",
        "elif BMI>=18.5:\n",
        "  if BMI<25.0:\n",
        "    print('Normal')\n",
        "  elif BMI>=25.0:\n",
        "    if BMI<30.0:\n",
        "      print('Overweight')\n",
        "    else:\n",
        "      print('Obese')"
      ],
      "execution_count": 5,
      "outputs": [
        {
          "output_type": "stream",
          "text": [
            "Enter weight in pounds:141.0958477983217\n",
            "Enter height in inches:68.89763779527559\n",
            "BMI: 20.89795305608238\n",
            "Normal\n"
          ],
          "name": "stdout"
        }
      ]
    },
    {
      "cell_type": "markdown",
      "metadata": {
        "id": "rTIOUyW3my_c",
        "colab_type": "text"
      },
      "source": [
        "7.Write a program that reads an integer between 100 and 1000 and adds all the digits in the integer \t(\tex: input 745 \t# output =16\t(7+4+5)\t)"
      ]
    },
    {
      "cell_type": "code",
      "metadata": {
        "id": "xrWjCsq2iF2L",
        "colab_type": "code",
        "colab": {
          "base_uri": "https://localhost:8080/",
          "height": 50
        },
        "outputId": "c183039a-be65-432a-d81a-8236b351214b"
      },
      "source": [
        "import math\n",
        "n=int(input('Enter an integer'))\n",
        "sum=0\n",
        "if n>100:\n",
        "  if n<1000:\n",
        "    while n>0:\n",
        "      rem=math.floor(n%10)\n",
        "      sum=sum+rem\n",
        "      n=math.floor(n/10)\n",
        "print(sum)\n"
      ],
      "execution_count": 11,
      "outputs": [
        {
          "output_type": "stream",
          "text": [
            "Enter an integer745\n",
            "16\n"
          ],
          "name": "stdout"
        }
      ]
    },
    {
      "cell_type": "markdown",
      "metadata": {
        "id": "k56STUb7i4_Y",
        "colab_type": "text"
      },
      "source": [
        "8.Print all palindrome numbers between 1 to 1000."
      ]
    },
    {
      "cell_type": "code",
      "metadata": {
        "id": "CsrS3x5Gi336",
        "colab_type": "code",
        "colab": {
          "base_uri": "https://localhost:8080/",
          "height": 1000
        },
        "outputId": "dd86cedc-7a58-410f-c8b4-4f56a4a7d15f"
      },
      "source": [
        "import math\n",
        "sum=0\n",
        "for n in range(1,1000):\n",
        "  k=n\n",
        "  sum=0\n",
        "  while n>0:\n",
        "    rem=math.floor(n%10)\n",
        "    sum=sum*10+rem\n",
        "    n=math.floor(n/10)\n",
        "  if k==sum:\n",
        "    print(k) \n"
      ],
      "execution_count": 10,
      "outputs": [
        {
          "output_type": "stream",
          "text": [
            "1\n",
            "2\n",
            "3\n",
            "4\n",
            "5\n",
            "6\n",
            "7\n",
            "8\n",
            "9\n",
            "11\n",
            "22\n",
            "33\n",
            "44\n",
            "55\n",
            "66\n",
            "77\n",
            "88\n",
            "99\n",
            "101\n",
            "111\n",
            "121\n",
            "131\n",
            "141\n",
            "151\n",
            "161\n",
            "171\n",
            "181\n",
            "191\n",
            "202\n",
            "212\n",
            "222\n",
            "232\n",
            "242\n",
            "252\n",
            "262\n",
            "272\n",
            "282\n",
            "292\n",
            "303\n",
            "313\n",
            "323\n",
            "333\n",
            "343\n",
            "353\n",
            "363\n",
            "373\n",
            "383\n",
            "393\n",
            "404\n",
            "414\n",
            "424\n",
            "434\n",
            "444\n",
            "454\n",
            "464\n",
            "474\n",
            "484\n",
            "494\n",
            "505\n",
            "515\n",
            "525\n",
            "535\n",
            "545\n",
            "555\n",
            "565\n",
            "575\n",
            "585\n",
            "595\n",
            "606\n",
            "616\n",
            "626\n",
            "636\n",
            "646\n",
            "656\n",
            "666\n",
            "676\n",
            "686\n",
            "696\n",
            "707\n",
            "717\n",
            "727\n",
            "737\n",
            "747\n",
            "757\n",
            "767\n",
            "777\n",
            "787\n",
            "797\n",
            "808\n",
            "818\n",
            "828\n",
            "838\n",
            "848\n",
            "858\n",
            "868\n",
            "878\n",
            "888\n",
            "898\n",
            "909\n",
            "919\n",
            "929\n",
            "939\n",
            "949\n",
            "959\n",
            "969\n",
            "979\n",
            "989\n",
            "999\n"
          ],
          "name": "stdout"
        }
      ]
    },
    {
      "cell_type": "markdown",
      "metadata": {
        "id": "7U2aW2JHi_7T",
        "colab_type": "text"
      },
      "source": [
        "9.Print all Armstrong numbers between 1 to 1000. "
      ]
    },
    {
      "cell_type": "code",
      "metadata": {
        "id": "W2kg-OuMjPrG",
        "colab_type": "code",
        "colab": {
          "base_uri": "https://localhost:8080/",
          "height": 235
        },
        "outputId": "06ac79cd-d163-4b4b-d4a3-0cbba26945aa"
      },
      "source": [
        "import math\n",
        "sum=0\n",
        "for n in range(1,1000):\n",
        "  k=n\n",
        "  sum=0\n",
        "  l=len(str(n))\n",
        "  while n>0:\n",
        "    rem=math.floor(n%10)\n",
        "    sum=sum+pow(rem,l)\n",
        "    n=math.floor(n/10)\n",
        "  if k==sum:\n",
        "    print(k) "
      ],
      "execution_count": 9,
      "outputs": [
        {
          "output_type": "stream",
          "text": [
            "1\n",
            "2\n",
            "3\n",
            "4\n",
            "5\n",
            "6\n",
            "7\n",
            "8\n",
            "9\n",
            "153\n",
            "370\n",
            "371\n",
            "407\n"
          ],
          "name": "stdout"
        }
      ]
    },
    {
      "cell_type": "markdown",
      "metadata": {
        "id": "pcyz14acjQcQ",
        "colab_type": "text"
      },
      "source": [
        "10.Write a Java program which iterates the integers from 1 to 100. For multiples of three print \"Fizz\" instead of the number and print \"Buzz\" for the multiples of five. When number is divided by both three and five, print \"fizz buzz\"."
      ]
    },
    {
      "cell_type": "code",
      "metadata": {
        "id": "3gQ9w9icjRvA",
        "colab_type": "code",
        "colab": {
          "base_uri": "https://localhost:8080/",
          "height": 1000
        },
        "outputId": "5aa56c44-5ef1-4362-dbcb-ad1af76dd9c0"
      },
      "source": [
        "for i in range(1,100):\n",
        "  f=0\n",
        "  if i%3==0:\n",
        "      if i%5==0:\n",
        "        f=1\n",
        "        print('fizzbuzz')\n",
        "  if f==0:\n",
        "    if i%3==0:\n",
        "      print('fizz')\n",
        "    elif i%5==0:\n",
        "      print('Buzz')\n",
        "    else :\n",
        "      print(i)\n",
        "    "
      ],
      "execution_count": 8,
      "outputs": [
        {
          "output_type": "stream",
          "text": [
            "1\n",
            "2\n",
            "fizz\n",
            "4\n",
            "Buzz\n",
            "fizz\n",
            "7\n",
            "8\n",
            "fizz\n",
            "Buzz\n",
            "11\n",
            "fizz\n",
            "13\n",
            "14\n",
            "fizzbuzz\n",
            "16\n",
            "17\n",
            "fizz\n",
            "19\n",
            "Buzz\n",
            "fizz\n",
            "22\n",
            "23\n",
            "fizz\n",
            "Buzz\n",
            "26\n",
            "fizz\n",
            "28\n",
            "29\n",
            "fizzbuzz\n",
            "31\n",
            "32\n",
            "fizz\n",
            "34\n",
            "Buzz\n",
            "fizz\n",
            "37\n",
            "38\n",
            "fizz\n",
            "Buzz\n",
            "41\n",
            "fizz\n",
            "43\n",
            "44\n",
            "fizzbuzz\n",
            "46\n",
            "47\n",
            "fizz\n",
            "49\n",
            "Buzz\n",
            "fizz\n",
            "52\n",
            "53\n",
            "fizz\n",
            "Buzz\n",
            "56\n",
            "fizz\n",
            "58\n",
            "59\n",
            "fizzbuzz\n",
            "61\n",
            "62\n",
            "fizz\n",
            "64\n",
            "Buzz\n",
            "fizz\n",
            "67\n",
            "68\n",
            "fizz\n",
            "Buzz\n",
            "71\n",
            "fizz\n",
            "73\n",
            "74\n",
            "fizzbuzz\n",
            "76\n",
            "77\n",
            "fizz\n",
            "79\n",
            "Buzz\n",
            "fizz\n",
            "82\n",
            "83\n",
            "fizz\n",
            "Buzz\n",
            "86\n",
            "fizz\n",
            "88\n",
            "89\n",
            "fizzbuzz\n",
            "91\n",
            "92\n",
            "fizz\n",
            "94\n",
            "Buzz\n",
            "fizz\n",
            "97\n",
            "98\n",
            "fizz\n"
          ],
          "name": "stdout"
        }
      ]
    },
    {
      "cell_type": "markdown",
      "metadata": {
        "id": "LGBrBcocn_bt",
        "colab_type": "text"
      },
      "source": [
        "    11. Spider Problem: A spider present at the bottom of the well of height H, needs to get out of it, using the slippery wall of the well. It decides to climb up the well; it goes up U meters and slips down D meters in one single step. So, in each step it covers (U-D) meters, and if the spider gets out of the well by covering U meters in the last step it doesn’t a slip back. For example, if the spider climbs up 5 meters and slips down by 3 meters in a single step, it covers (U - D) m in each step and 96 m in 48 steps, but in the 49th step it climbs up 5 m and reaches out of the well and it will not slip down and the step is counted as one step.     \n",
        "Input: Each test case will contain 3 integers ’H’ height of the well, next ’U’ meters climbs up in each step, and the last ’D’ meters slips down in each step.\n",
        "\n",
        "Output:  The number of steps 'N' required to get out of the well.\n",
        "\n",
        "Example 1:\n",
        "\n",
        " \tInput:\t\t\t\t\t\tOuput \n",
        "\t200 50 1\t\t\t\t\t    5\n",
        "\n",
        "\tExample 2:\n",
        " \tInput:\t\t\t\t\t\tOutput\n",
        "\t500 20 15\t\t\t\t\t   98\n"
      ]
    },
    {
      "cell_type": "code",
      "metadata": {
        "id": "--LTZbsxjTOV",
        "colab_type": "code",
        "colab": {
          "base_uri": "https://localhost:8080/",
          "height": 84
        },
        "outputId": "fc1857ad-7ec2-403a-f440-5034777d1e27"
      },
      "source": [
        "H=int(input('Enter height of well:'))\n",
        "U=int(input('Enter no of meters to climb up:'))\n",
        "D=int(input('Enter no of meters slips down:'))\n",
        "n=0\n",
        "while H>0:\n",
        "  if H<U:\n",
        "    H=H-U\n",
        "    n=n+1\n",
        "  else:\n",
        "    k=U-D\n",
        "    H=H-k\n",
        "    n=n+1\n",
        "print(n)"
      ],
      "execution_count": 6,
      "outputs": [
        {
          "output_type": "stream",
          "text": [
            "Enter height of well:500\n",
            "Enter no of meters to climb up:20\n",
            "Enter no of meters slips down:15\n",
            "98\n"
          ],
          "name": "stdout"
        }
      ]
    }
  ]
}
{
  "nbformat": 4,
  "nbformat_minor": 0,
  "metadata": {
    "colab": {
      "name": "Q1.ipynb",
      "provenance": [],
      "authorship_tag": "ABX9TyP+3s9CBOlxj3jTYCtvNZg1",
      "include_colab_link": true
    },
    "kernelspec": {
      "name": "python3",
      "display_name": "Python 3"
    }
  },
  "cells": [
    {
      "cell_type": "markdown",
      "metadata": {
        "id": "view-in-github",
        "colab_type": "text"
      },
      "source": [
        "<a href=\"https://colab.research.google.com/github/18K41A0565/ASSIGNMENT-I/blob/master/ASSIGNMENT-1.ipynb\" target=\"_parent\"><img src=\"https://colab.research.google.com/assets/colab-badge.svg\" alt=\"Open In Colab\"/></a>"
      ]
    },
    {
      "cell_type": "markdown",
      "metadata": {
        "id": "Ae9yh7ga0auy",
        "colab_type": "text"
      },
      "source": [
        "1.Develop a code for below scenario!"
      ]
    },
    {
      "cell_type": "code",
      "metadata": {
        "id": "d6A2p3VJ0cqm",
        "colab_type": "code",
        "colab": {
          "base_uri": "https://localhost:8080/",
          "height": 50
        },
        "outputId": "fd39276b-c253-4bd1-d807-a1750ee2da9b"
      },
      "source": [
        "month={0:'monkey',1:'rooster',2:'dog',3:'pig',4:'rat',5:'ox',6:'tiger',7:'rabbit',8:'dragon',9:'snake',10:'horse',11:'sheep'}\n",
        "m=int(input('Enter year of birth:'))\n",
        "k=m%12\n",
        "if k in month:\n",
        "  print(month[k])"
      ],
      "execution_count": null,
      "outputs": [
        {
          "output_type": "stream",
          "text": [
            "Enter year of birth:2001\n",
            "snake\n"
          ],
          "name": "stdout"
        }
      ]
    }
  ]
}